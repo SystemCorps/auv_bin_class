{
 "cells": [
  {
   "cell_type": "code",
   "execution_count": 5,
   "metadata": {},
   "outputs": [],
   "source": [
    "%matplotlib inline\n",
    "import matplotlib.pyplot as plt\n",
    "import numpy as np\n",
    "import pandas as pd"
   ]
  },
  {
   "cell_type": "code",
   "execution_count": 11,
   "metadata": {},
   "outputs": [],
   "source": [
    "path = './results/for_paper/res.txt'"
   ]
  },
  {
   "cell_type": "code",
   "execution_count": 12,
   "metadata": {},
   "outputs": [],
   "source": [
    "data = pd.read_csv(path, delimiter='\\t')"
   ]
  },
  {
   "cell_type": "code",
   "execution_count": 13,
   "metadata": {},
   "outputs": [
    {
     "data": {
      "text/html": [
       "<div>\n",
       "<style scoped>\n",
       "    .dataframe tbody tr th:only-of-type {\n",
       "        vertical-align: middle;\n",
       "    }\n",
       "\n",
       "    .dataframe tbody tr th {\n",
       "        vertical-align: top;\n",
       "    }\n",
       "\n",
       "    .dataframe thead th {\n",
       "        text-align: right;\n",
       "    }\n",
       "</style>\n",
       "<table border=\"1\" class=\"dataframe\">\n",
       "  <thead>\n",
       "    <tr style=\"text-align: right;\">\n",
       "      <th></th>\n",
       "      <th>Epoch</th>\n",
       "      <th>Train_acc</th>\n",
       "      <th>Train_loss</th>\n",
       "      <th>Val_acc</th>\n",
       "      <th>Val_loss</th>\n",
       "    </tr>\n",
       "  </thead>\n",
       "  <tbody>\n",
       "    <tr>\n",
       "      <th>0</th>\n",
       "      <td>1</td>\n",
       "      <td>0.933799</td>\n",
       "      <td>0.178788</td>\n",
       "      <td>0.896250</td>\n",
       "      <td>0.283644</td>\n",
       "    </tr>\n",
       "    <tr>\n",
       "      <th>1</th>\n",
       "      <td>2</td>\n",
       "      <td>0.964367</td>\n",
       "      <td>0.103933</td>\n",
       "      <td>0.929167</td>\n",
       "      <td>0.229465</td>\n",
       "    </tr>\n",
       "    <tr>\n",
       "      <th>2</th>\n",
       "      <td>3</td>\n",
       "      <td>0.966348</td>\n",
       "      <td>0.094502</td>\n",
       "      <td>0.922500</td>\n",
       "      <td>0.261846</td>\n",
       "    </tr>\n",
       "    <tr>\n",
       "      <th>3</th>\n",
       "      <td>4</td>\n",
       "      <td>0.968952</td>\n",
       "      <td>0.087256</td>\n",
       "      <td>0.924679</td>\n",
       "      <td>0.243146</td>\n",
       "    </tr>\n",
       "    <tr>\n",
       "      <th>4</th>\n",
       "      <td>5</td>\n",
       "      <td>0.970465</td>\n",
       "      <td>0.082747</td>\n",
       "      <td>0.919551</td>\n",
       "      <td>0.282300</td>\n",
       "    </tr>\n",
       "    <tr>\n",
       "      <th>5</th>\n",
       "      <td>6</td>\n",
       "      <td>0.972513</td>\n",
       "      <td>0.076241</td>\n",
       "      <td>0.918125</td>\n",
       "      <td>0.269479</td>\n",
       "    </tr>\n",
       "    <tr>\n",
       "      <th>6</th>\n",
       "      <td>7</td>\n",
       "      <td>0.974605</td>\n",
       "      <td>0.070001</td>\n",
       "      <td>0.936859</td>\n",
       "      <td>0.241740</td>\n",
       "    </tr>\n",
       "    <tr>\n",
       "      <th>7</th>\n",
       "      <td>8</td>\n",
       "      <td>0.976608</td>\n",
       "      <td>0.066715</td>\n",
       "      <td>0.928846</td>\n",
       "      <td>0.227123</td>\n",
       "    </tr>\n",
       "    <tr>\n",
       "      <th>8</th>\n",
       "      <td>9</td>\n",
       "      <td>0.976096</td>\n",
       "      <td>0.066739</td>\n",
       "      <td>0.925313</td>\n",
       "      <td>0.259990</td>\n",
       "    </tr>\n",
       "    <tr>\n",
       "      <th>9</th>\n",
       "      <td>10</td>\n",
       "      <td>0.976742</td>\n",
       "      <td>0.065002</td>\n",
       "      <td>0.933333</td>\n",
       "      <td>0.240049</td>\n",
       "    </tr>\n",
       "  </tbody>\n",
       "</table>\n",
       "</div>"
      ],
      "text/plain": [
       "   Epoch  Train_acc  Train_loss   Val_acc  Val_loss\n",
       "0      1   0.933799    0.178788  0.896250  0.283644\n",
       "1      2   0.964367    0.103933  0.929167  0.229465\n",
       "2      3   0.966348    0.094502  0.922500  0.261846\n",
       "3      4   0.968952    0.087256  0.924679  0.243146\n",
       "4      5   0.970465    0.082747  0.919551  0.282300\n",
       "5      6   0.972513    0.076241  0.918125  0.269479\n",
       "6      7   0.974605    0.070001  0.936859  0.241740\n",
       "7      8   0.976608    0.066715  0.928846  0.227123\n",
       "8      9   0.976096    0.066739  0.925313  0.259990\n",
       "9     10   0.976742    0.065002  0.933333  0.240049"
      ]
     },
     "execution_count": 13,
     "metadata": {},
     "output_type": "execute_result"
    }
   ],
   "source": [
    "data"
   ]
  },
  {
   "cell_type": "code",
   "execution_count": 22,
   "metadata": {},
   "outputs": [],
   "source": [
    "res = data.values"
   ]
  },
  {
   "cell_type": "code",
   "execution_count": 51,
   "metadata": {},
   "outputs": [
    {
     "data": {
      "image/png": "[encoded data removed]",
      "text/plain": [
       "<Figure size 864x288 with 2 Axes>"
      ]
     },
     "metadata": {
      "needs_background": "light"
     },
     "output_type": "display_data"
    }
   ],
   "source": [
    "fig = plt.figure(figsize=(12,4))\n",
    "\n",
    "ax1 = fig.add_subplot(1,2,1)\n",
    "ax2 = fig.add_subplot(1,2,2)\n",
    "\n",
    "ax1.plot(res[:,0], res[:,1], 'k', label='Training')\n",
    "ax1.plot(res[:,0], res[:,3], '--k', label='Validation')\n",
    "ax1.set_title(\"Mean Accuracy\")\n",
    "ax1.set_xlabel(\"Epoch\")\n",
    "ax1.set_ylabel(\"Accuracy\")\n",
    "ax1.set_ylim([0.88, 1.0])\n",
    "ax1.grid()\n",
    "ax1.legend()\n",
    "\n",
    "ax2.plot(res[:,0], res[:,2], 'k', label='Training')\n",
    "ax2.plot(res[:,0], res[:,4], '--k', label='Validation')\n",
    "ax2.set_title(\"Mean Loss\")\n",
    "ax2.set_xlabel(\"Epoch\")\n",
    "ax2.set_ylabel(\"Loss\")\n",
    "#ax2.set_ylim([0.9, 1.0])\n",
    "ax2.grid()\n",
    "ax2.legend()\n",
    "\n",
    "plt.show()"
   ]
  }
 ],
 "metadata": {
  "kernelspec": {
   "display_name": "Python 3",
   "language": "python",
   "name": "python3"
  },
  "language_info": {
   "codemirror_mode": {
    "name": "ipython",
    "version": 3
   },
   "file_extension": ".py",
   "mimetype": "text/x-python",
   "name": "python",
   "nbconvert_exporter": "python",
   "pygments_lexer": "ipython3",
   "version": "3.7.3"
  }
 },
 "nbformat": 4,
 "nbformat_minor": 4
}
