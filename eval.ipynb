{
 "cells": [
  {
   "cell_type": "code",
   "execution_count": null,
   "metadata": {},
   "outputs": [],
   "source": [
    "from keras.models import Sequential\n",
    "from keras.layers import Dense\n",
    "from keras.callbacks import ModelCheckpoint\n",
    "from keras.layers import Dense,GlobalAveragePooling2D\n",
    "from keras.applications.mobilenet_v2 import preprocess_input\n",
    "from keras.preprocessing.image import ImageDataGenerator\n",
    "from keras.models import Model\n",
    "from keras.applications import MobileNetV2\n",
    "import matplotlib.pyplot as plt\n",
    "import numpy as np\n",
    "import pandas as pd"
   ]
  },
  {
   "cell_type": "code",
   "execution_count": null,
   "metadata": {},
   "outputs": [],
   "source": [
    "batch_size = 32\n",
    "\n",
    "base_model = MobileNetV2(weights='imagenet', include_top=False)\n",
    "\n",
    "x = base_model.output\n",
    "x = GlobalAveragePooling2D()(x)\n",
    "pred = Dense(2, activation='softmax', use_bias=True)(x)\n",
    "\n",
    "model = Model(inputs=base_model.input, outputs=pred)\n",
    "model.compile(optimizer='Adam', loss='binary_crossentropy', metrics=['accuracy'])\n",
    "\n",
    "pred_list = []\n",
    "test_acc = []\n",
    "\n"
   ]
  },
  {
   "cell_type": "code",
   "execution_count": null,
   "metadata": {},
   "outputs": [],
   "source": [
    "for i in range(11,21):\n",
    "    model_path = './results/check/check_%d' % i\n",
    "    model.load_weights(model_path)\n",
    "\n",
    "    test_datagen = ImageDataGenerator(preprocessing_function = preprocess_input)\n",
    "\n",
    "    test_generator = test_datagen.flow_from_directory('D:/Data/clearness/test',\n",
    "                                                target_size = (224, 224),\n",
    "                                                batch_size = batch_size,\n",
    "                                                shuffle=False,\n",
    "                                                class_mode = 'categorical')\n",
    "\n",
    "    labels = test_generator.classes\n",
    "    \n",
    "\n",
    "\n",
    "    test_steps = test_generator.n//test_generator.batch_size\n",
    "    test = model.evaluate_generator(generator=test_generator,\n",
    "                                    steps=test_steps)\n",
    "\n",
    "    test_acc.append(test)\n",
    "\n",
    "    print(test)"
   ]
  },
  {
   "cell_type": "code",
   "execution_count": null,
   "metadata": {},
   "outputs": [],
   "source": [
    "for i in range(11,21):\n",
    "    model_path = './results/check/check_%d' % i\n",
    "    model.load_weights(model_path)\n",
    "\n",
    "    test_datagen = ImageDataGenerator(preprocessing_function = preprocess_input)\n",
    "\n",
    "    test_generator = test_datagen.flow_from_directory('D:/Data/clearness/test',\n",
    "                                                target_size = (224, 224),\n",
    "                                                batch_size = batch_size,\n",
    "                                                shuffle=False,\n",
    "                                                class_mode = 'categorical')\n",
    "\n",
    "    labels = test_generator.classes\n",
    "    \n",
    "\n",
    "\n",
    "    test_steps = test_generator.n//test_generator.batch_size+1\n",
    "\n",
    "    preds = model.predict_generator(generator=test_generator,\n",
    "                                    steps=test_steps)\n",
    "\n",
    "    pred_list.append(preds)\n",
    "    print(preds[0])"
   ]
  },
  {
   "cell_type": "code",
   "execution_count": null,
   "metadata": {},
   "outputs": [],
   "source": [
    "print(test_acc)"
   ]
  },
  {
   "cell_type": "code",
   "execution_count": null,
   "metadata": {},
   "outputs": [],
   "source": [
    "pred_labels = []\n",
    "for i in range(len(pred_list)):\n",
    "    temp = pred_list[i]\n",
    "    temp2 = np.argmax(temp, axis=1)\n",
    "    pred_labels.append(temp2)"
   ]
  },
  {
   "cell_type": "code",
   "execution_count": null,
   "metadata": {},
   "outputs": [],
   "source": [
    "wrongs = []\n",
    "for i in range(len(pred_labels)):\n",
    "    temp = np.logical_xor(labels, pred_labels[i])\n",
    "    wrongs.append(temp)"
   ]
  },
  {
   "cell_type": "code",
   "execution_count": null,
   "metadata": {},
   "outputs": [],
   "source": [
    "wrongs = np.array(wrongs)"
   ]
  },
  {
   "cell_type": "code",
   "execution_count": null,
   "metadata": {},
   "outputs": [],
   "source": [
    "wrong_idx = []\n",
    "for i in range(len(wrongs)):\n",
    "    temp = np.where(wrongs[i]==True)\n",
    "    wrong_idx.append(temp[0])"
   ]
  },
  {
   "cell_type": "code",
   "execution_count": null,
   "metadata": {},
   "outputs": [],
   "source": [
    "file_names = {}\n",
    "for i in range(len(wrong_idx)):\n",
    "    file_names[i] = []\n",
    "    for j in range(len(wrong_idx[i])):\n",
    "        name = test_generator.filenames[wrong_idx[i][j]]\n",
    "        file_names[i].append(name)"
   ]
  },
  {
   "cell_type": "code",
   "execution_count": null,
   "metadata": {},
   "outputs": [],
   "source": [
    "%matplotlib inline\n",
    "import matplotlib.image as mpimg"
   ]
  },
  {
   "cell_type": "code",
   "execution_count": null,
   "metadata": {},
   "outputs": [],
   "source": [
    "temp_names = 'D:/Data/clearness/test/' + file_names[0][0]\n",
    "print(temp_names)"
   ]
  },
  {
   "cell_type": "code",
   "execution_count": null,
   "metadata": {},
   "outputs": [],
   "source": [
    "if '/clear' in temp_names:\n",
    "    print(\"!\")"
   ]
  },
  {
   "cell_type": "code",
   "execution_count": null,
   "metadata": {},
   "outputs": [],
   "source": [
    "temp_names = file_names[0]"
   ]
  },
  {
   "cell_type": "code",
   "execution_count": null,
   "metadata": {},
   "outputs": [],
   "source": [
    "temp_names = file_names[0]\n",
    "ucount = 0\n",
    "for i in range(len(temp_names)):\n",
    "    fullname = 'D:/Data/clearness/test/' + temp_names[i]\n",
    "    if 'unclear' in fullname:\n",
    "        img = mpimg.imread(fullname)\n",
    "        plt.imshow(img)\n",
    "        plt.show()\n",
    "        ucount+=1"
   ]
  },
  {
   "cell_type": "code",
   "execution_count": null,
   "metadata": {},
   "outputs": [],
   "source": [
    "temp_names = file_names[0]\n",
    "ccount = 0\n",
    "for i in range(len(temp_names)):\n",
    "    fullname = 'D:/Data/clearness/test/' + temp_names[i]\n",
    "    if 'test/clear' in fullname:\n",
    "        img = mpimg.imread(fullname)\n",
    "        plt.imshow(img)\n",
    "        plt.show()\n",
    "        ccount+=1"
   ]
  },
  {
   "cell_type": "code",
   "execution_count": null,
   "metadata": {},
   "outputs": [],
   "source": [
    "print(ccount, ucount)"
   ]
  }
 ],
 "metadata": {
  "kernelspec": {
   "display_name": "Python 3",
   "language": "python",
   "name": "python3"
  },
  "language_info": {
   "codemirror_mode": {
    "name": "ipython",
    "version": 3
   },
   "file_extension": ".py",
   "mimetype": "text/x-python",
   "name": "python",
   "nbconvert_exporter": "python",
   "pygments_lexer": "ipython3",
   "version": "3.7.3"
  }
 },
 "nbformat": 4,
 "nbformat_minor": 4
}
